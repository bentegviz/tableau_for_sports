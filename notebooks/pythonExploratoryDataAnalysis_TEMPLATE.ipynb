{
  "nbformat": 4,
  "nbformat_minor": 0,
  "metadata": {
    "colab": {
      "name": "pythonExploratoryDataAnalysis_TEMPLATE.ipynb",
      "provenance": [],
      "collapsed_sections": [],
      "toc_visible": true
    },
    "kernelspec": {
      "name": "python3",
      "display_name": "Python 3"
    }
  },
  "cells": [
    {
      "cell_type": "markdown",
      "metadata": {
        "id": "TOvht7vqQGdR"
      },
      "source": [
        "# Python Exploratory Data Analysis Template\n"
      ]
    },
    {
      "cell_type": "markdown",
      "metadata": {
        "id": "dB_j6LtTTO5j"
      },
      "source": [
        "## Introduction"
      ]
    },
    {
      "cell_type": "markdown",
      "metadata": {
        "id": "8hg00soETQ3z"
      },
      "source": [
        "**What is Exploratory Data Analysis ?**\n",
        "\n",
        "Exploratory Data Analysis or (EDA) is understanding the data sets by summarizing their main characteristics often plotting them visually. This step is very important especially when we arrive at modeling the data in order to apply Machine learning. Plotting in EDA consists of Histograms, Box plot, Scatter plot and many more. It often takes much time to explore the data. Through the process of EDA, we can ask to define the problem statement or definition on our data set which is very important."
      ]
    },
    {
      "cell_type": "markdown",
      "metadata": {
        "id": "ZfelutoyTS25"
      },
      "source": [
        "**How to perform Exploratory Data Analysis**\n",
        "\n",
        "There are some common methods and plots that would be used in the EDA process.  \n",
        "\n",
        "1.   Data Exploration\n",
        "2.   Data Cleaning\n",
        "3.   Model Building\n",
        "4.   Presenting Results\n",
        "\n",
        "![image.png](data:image/png;base64,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)"
      ]
    },
    {
      "cell_type": "markdown",
      "metadata": {
        "id": "n3VfNkBBw15s"
      },
      "source": [
        "**What data is being explored ?**\n",
        "\n",
        "\n",
        "> *use double space to begin new line*\n",
        "\n",
        "\n",
        "Dataset Name: World Happiness Report  \n",
        "Dataset Description: *The World Happiness Report is a landmark survey of the state of global happiness. The first report was published in 2012, the second in 2013, the third in 2015, and the fourth in the 2016 Update. The World Happiness 2017, which ranks 155 countries by their happiness levels, was released at the United Nations at an event celebrating International Day of Happiness on March 20th. The report continues to gain global recognition as governments, organizations and civil society increasingly use happiness indicators to inform their policy-making decisions. Leading experts across fields – economics, psychology, survey analysis, national statistics, health, public policy and more – describe how measurements of well-being can be used effectively to assess the progress of nations. The reports review the state of happiness in the world today and show how the new science of happiness explains personal and national variations in happiness.*    \n",
        "Dataset Source: Kaggle  \n",
        "Dataset Link: https://www.kaggle.com/unsdsn/world-happiness\n",
        "\n"
      ]
    },
    {
      "cell_type": "markdown",
      "metadata": {
        "id": "ehIpq8WJn4L5"
      },
      "source": [
        "**What data questions are hoping to be answered after analysis?**"
      ]
    },
    {
      "cell_type": "markdown",
      "metadata": {
        "id": "eD_FIViJoAW9"
      },
      "source": [
        "\n",
        "\n",
        "1.   Question1\n",
        "2.   Question2\n",
        "3.   Question3\n",
        "4.   Question4\n",
        "\n"
      ]
    },
    {
      "cell_type": "markdown",
      "metadata": {
        "id": "CQDO4JCqTThV"
      },
      "source": [
        "\n",
        "\n",
        "---\n",
        "\n"
      ]
    },
    {
      "cell_type": "markdown",
      "metadata": {
        "id": "FPSqz1wzTXvz"
      },
      "source": [
        "## 1. Importing libraries"
      ]
    },
    {
      "cell_type": "markdown",
      "metadata": {
        "id": "9eLMx1Ebwa92"
      },
      "source": [
        "Below are the libraries that are used in order to perform EDA (Exploratory Data Analysis)."
      ]
    },
    {
      "cell_type": "markdown",
      "metadata": {
        "id": "pcbiBJuCyGpg"
      },
      "source": [
        "\n",
        "\n",
        "*Pathlib* - Object-oriented filesystem paths  \n",
        "*Sys* - System-specific parameters and functions  \n",
        "*OS* - Operating system dependent functionality  \n",
        "*Pandas* - Data analysis and manipulation tool  \n",
        "*Numpy* - Multi-dimensional arrays and matrices, and high-level mathematical functions  \n",
        "*Seaborn* - Statistical data visualizations  \n",
        "*Matplotlib* - Plotting visualizations"
      ]
    },
    {
      "cell_type": "code",
      "metadata": {
        "id": "GGyDovL2QDLa",
        "colab": {
          "base_uri": "https://localhost:8080/"
        },
        "outputId": "27ad6c68-1ba7-486b-c02a-71c6d8cc2a2e"
      },
      "source": [
        "# Infrastructure\n",
        "from pathlib import Path\n",
        "import sys\n",
        "import os\n",
        "\n",
        "# Science and Data\n",
        "import pandas as pd  \n",
        "import numpy as np\n",
        "\n",
        "# Plotting Tools\n",
        "import seaborn as sns\n",
        "import matplotlib.pyplot as plt\n",
        "\n",
        "print('Import Libraries Complete')"
      ],
      "execution_count": null,
      "outputs": [
        {
          "output_type": "stream",
          "text": [
            "Import Libraries Complete\n"
          ],
          "name": "stdout"
        }
      ]
    },
    {
      "cell_type": "markdown",
      "metadata": {
        "id": "hDPv-Yzeot-t"
      },
      "source": [
        "Pandas and Plotting Setup Options"
      ]
    },
    {
      "cell_type": "code",
      "metadata": {
        "id": "u5Jq2eVlorY5",
        "colab": {
          "base_uri": "https://localhost:8080/"
        },
        "outputId": "f92e71e9-784f-4119-929e-cc68b61b6bd3"
      },
      "source": [
        "# Pandas\n",
        "pd.set_option('display.max_rows', 100)\n",
        "\n",
        "# Matplotlib\n",
        "%matplotlib inline\n",
        "plt.rcParams['figure.figsize'] = (20, 10)\n",
        "plt.rcParams['axes.spines.left'] = False\n",
        "plt.rcParams['axes.spines.right'] = False\n",
        "plt.rcParams['axes.spines.top'] = False\n",
        "plt.rcParams['axes.spines.bottom'] = False\n",
        "plt.rcParams['xtick.bottom'] = False\n",
        "plt.rcParams['xtick.labelbottom'] = True\n",
        "plt.rcParams['ytick.labelleft'] = True\n",
        "plt.rcParams.update({'font.size': 18})\n",
        "\n",
        "print('Library Setup Options Complete')"
      ],
      "execution_count": null,
      "outputs": [
        {
          "output_type": "stream",
          "text": [
            "Setup Options Complete\n"
          ],
          "name": "stdout"
        }
      ]
    },
    {
      "cell_type": "markdown",
      "metadata": {
        "id": "Wc_uw-vztigJ"
      },
      "source": [
        "Path Setup Options"
      ]
    },
    {
      "cell_type": "code",
      "metadata": {
        "id": "cqCvxdpPtlBl"
      },
      "source": [
        "'''\n",
        "PROJECT_ROOT = !git rev-parse --show-toplevel\n",
        "PROJECT_ROOT = Path(PROJECT_ROOT[0])\n",
        "\n",
        "print('Path Setup Complete)\n",
        "''' "
      ],
      "execution_count": null,
      "outputs": []
    },
    {
      "cell_type": "markdown",
      "metadata": {
        "id": "xFVn3PQUqSGp"
      },
      "source": [
        "Machine Learning using Scikit-Learn\n",
        "\n",
        "Python Data Science Handbook  \n",
        "Introducing SciKit-Learn for Google Colab  \n",
        "[Link](\n",
        "https://colab.research.google.com/github/jakevdp/PythonDataScienceHandbook/blob/master/notebooks/05.02-Introducing-Scikit-Learn.ipynb#scrollTo=cXpxypZgp8xH)"
      ]
    },
    {
      "cell_type": "code",
      "metadata": {
        "id": "PFLDXmNytqN_"
      },
      "source": [
        "'''\n",
        "import sklearn as sk\n",
        "\n",
        "print('Machine Learning Library Complete')\n",
        "'''"
      ],
      "execution_count": null,
      "outputs": []
    },
    {
      "cell_type": "markdown",
      "metadata": {
        "id": "Ye6eXuohTd5Q"
      },
      "source": [
        "\n",
        "\n",
        "---\n",
        "\n"
      ]
    },
    {
      "cell_type": "markdown",
      "metadata": {
        "id": "8Y3Z2DbKTfJt"
      },
      "source": [
        "## 2. Downloading files"
      ]
    },
    {
      "cell_type": "markdown",
      "metadata": {
        "id": "ko5zGJFCySaz"
      },
      "source": [
        "Loading the data into the pandas data frame is certainly one of the most important steps in EDA, as we can see that the value from the data set is comma-separated. So all we have to do is to just read the CSV into a data frame and pandas data frame does the job for us."
      ]
    },
    {
      "cell_type": "markdown",
      "metadata": {
        "id": "LgzUzD61IM8h"
      },
      "source": [
        "External Data Sources   \n",
        "Local files: [Link](https://colab.research.google.com/notebooks/io.ipynb)  \n",
        "Google Drive: [Link](https://colab.research.google.com/notebooks/io.ipynb#scrollTo=c2W5A2px3doP)  \n",
        "Kaggle: [Link](https://colab.research.google.com/github/corrieann/kaggle/blob/master/kaggle_api_in_colab.ipynb#scrollTo=DsyV01gDaxls)  \n",
        "Github: [Link](https://colab.research.google.com/github/googlecolab/colabtools/blob/master/notebooks/colab-github-demo.ipynb)  \n",
        "  *Github requires use or raw.githubusercontent.com url*\n"
      ]
    },
    {
      "cell_type": "markdown",
      "metadata": {
        "id": "ja-lQkifMGFO"
      },
      "source": [
        "### 2.1. Local files"
      ]
    },
    {
      "cell_type": "code",
      "metadata": {
        "id": "u1pv8GwjMuxO"
      },
      "source": [
        "'''\n",
        "df = pd.read_csv(' ')\n",
        "print('Import Data Complete')\n",
        "'''"
      ],
      "execution_count": null,
      "outputs": []
    },
    {
      "cell_type": "markdown",
      "metadata": {
        "id": "Hg4-EjgJMTVR"
      },
      "source": [
        "### 2.2. URL files"
      ]
    },
    {
      "cell_type": "code",
      "metadata": {
        "colab": {
          "base_uri": "https://localhost:8080/",
          "height": 36
        },
        "id": "GfIKOCPPMatU",
        "outputId": "2c4c017f-1000-4831-f89c-783cddc43322"
      },
      "source": [
        "'''\n",
        "url = (' ')\n",
        "df = pd.read_csv(url)\n",
        "print('Import Data Complete')\n",
        "'''"
      ],
      "execution_count": null,
      "outputs": [
        {
          "output_type": "execute_result",
          "data": {
            "application/vnd.google.colaboratory.intrinsic+json": {
              "type": "string"
            },
            "text/plain": [
              "\"url = ('https://www.kaggle.com/CooperUnion/cardataset?select=data.csv')\\ndf = pd.read_csv(url)\\nprint('Import Data Complete')\""
            ]
          },
          "metadata": {
            "tags": []
          },
          "execution_count": 9
        }
      ]
    },
    {
      "cell_type": "markdown",
      "metadata": {
        "id": "d3w3z9-nQdlX"
      },
      "source": [
        "### 2.3. Kaggle files"
      ]
    },
    {
      "cell_type": "markdown",
      "metadata": {
        "id": "5bL9MPMdSuBd"
      },
      "source": [
        "#### 2.3.1. Installing Kaggle API in Colab"
      ]
    },
    {
      "cell_type": "code",
      "metadata": {
        "id": "UrkM42hISQg0"
      },
      "source": [
        "'''\n",
        "!pip install kaggle\n",
        "'''"
      ],
      "execution_count": null,
      "outputs": []
    },
    {
      "cell_type": "markdown",
      "metadata": {
        "id": "2u8chkqESzjN"
      },
      "source": [
        "#### 2.3.2. Authenticating with Kaggle using kaggle.json"
      ]
    },
    {
      "cell_type": "code",
      "metadata": {
        "id": "Z6Hw0MceSQVH"
      },
      "source": [
        "'''\n",
        "from google.colab import files\n",
        "\n",
        "uploaded = files.upload()\n",
        "\n",
        "for fn in uploaded.keys():\n",
        "  print('User uploaded file \"{name}\" with length {length} bytes'.format(\n",
        "      name=fn, length=len(uploaded[fn])))\n",
        "  \n",
        "# Then move kaggle.json into the folder where the API expects to find it.\n",
        "!mkdir -p ~/.kaggle/ && mv kaggle.json ~/.kaggle/ && chmod 600 ~/.kaggle/kaggle.json\n",
        "'''"
      ],
      "execution_count": null,
      "outputs": []
    },
    {
      "cell_type": "markdown",
      "metadata": {
        "id": "w2Tcy7MVS6ih"
      },
      "source": [
        "#### 2.3.3. Listing competitions"
      ]
    },
    {
      "cell_type": "code",
      "metadata": {
        "id": "skCJl8NwSQI5"
      },
      "source": [
        "'''\n",
        "!kaggle competitions list\n",
        "'''"
      ],
      "execution_count": null,
      "outputs": []
    },
    {
      "cell_type": "markdown",
      "metadata": {
        "id": "uJAXJ1aUTA5L"
      },
      "source": [
        "#### 2.3.4. Downloading a dataset"
      ]
    },
    {
      "cell_type": "code",
      "metadata": {
        "id": "44UOOMR9SP4h"
      },
      "source": [
        "'''\n",
        "!kaggle datasets download \"center-for-policing-equity/data-science-for-good\"\n",
        "'''"
      ],
      "execution_count": null,
      "outputs": []
    },
    {
      "cell_type": "code",
      "metadata": {
        "id": "zF7WTCv7Qgbq"
      },
      "source": [
        "'''\n",
        "!unzip data-science-for-good.zip\n",
        "'''"
      ],
      "execution_count": null,
      "outputs": []
    },
    {
      "cell_type": "code",
      "metadata": {
        "id": "iy7c8WThWFR7"
      },
      "source": [
        "'''\n",
        "basepath = \"Dept_23-00089/23-00089_ACS_data/23-00089_ACS_race-sex-age/\"\n",
        "df = pd.read_csv(basepath + \"ACS_15_5YR_DP05_with_ann.csv\")\n",
        "print('Import Data Complete')\n",
        "'''"
      ],
      "execution_count": null,
      "outputs": []
    },
    {
      "cell_type": "markdown",
      "metadata": {
        "id": "34S-yKTWQzqu"
      },
      "source": [
        "### 2.4. Github files"
      ]
    },
    {
      "cell_type": "code",
      "metadata": {
        "colab": {
          "base_uri": "https://localhost:8080/"
        },
        "id": "_B4jna8ZQ9Ss",
        "outputId": "5911298b-e47f-4179-ef4a-8eed497d513d"
      },
      "source": [
        "\n",
        "url = ('https://raw.githubusercontent.com/bentegviz/Explonatory_Data_Analysis/main/files/Happiness.csv')\n",
        "df = pd.read_csv(url)\n",
        "\n",
        "print('Import Data Complete')\n"
      ],
      "execution_count": null,
      "outputs": [
        {
          "output_type": "stream",
          "text": [
            "Import Data Complete\n"
          ],
          "name": "stdout"
        }
      ]
    },
    {
      "cell_type": "markdown",
      "metadata": {
        "id": "0P31BqmJTRB4"
      },
      "source": [
        "## 3. Data Exploration"
      ]
    },
    {
      "cell_type": "markdown",
      "metadata": {
        "id": "87JV5L6-KRTi"
      },
      "source": [
        "### 3.1. Exploring the data frame first and last 5 samples"
      ]
    },
    {
      "cell_type": "code",
      "metadata": {
        "id": "0oVZnezwQ159",
        "colab": {
          "base_uri": "https://localhost:8080/",
          "height": 293
        },
        "outputId": "d7801ecf-966b-4433-9e9a-73f926456447"
      },
      "source": [
        "# To display the top 5 rows \n",
        "df.head(5)               "
      ],
      "execution_count": null,
      "outputs": [
        {
          "output_type": "execute_result",
          "data": {
            "text/html": [
              "<div>\n",
              "<style scoped>\n",
              "    .dataframe tbody tr th:only-of-type {\n",
              "        vertical-align: middle;\n",
              "    }\n",
              "\n",
              "    .dataframe tbody tr th {\n",
              "        vertical-align: top;\n",
              "    }\n",
              "\n",
              "    .dataframe thead th {\n",
              "        text-align: right;\n",
              "    }\n",
              "</style>\n",
              "<table border=\"1\" class=\"dataframe\">\n",
              "  <thead>\n",
              "    <tr style=\"text-align: right;\">\n",
              "      <th></th>\n",
              "      <th>Country</th>\n",
              "      <th>Region</th>\n",
              "      <th>Happiness Rank</th>\n",
              "      <th>Happiness Score</th>\n",
              "      <th>Standard Error</th>\n",
              "      <th>Economy (GDP per Capita)</th>\n",
              "      <th>Family</th>\n",
              "      <th>Health (Life Expectancy)</th>\n",
              "      <th>Freedom</th>\n",
              "      <th>Trust (Government Corruption)</th>\n",
              "      <th>Generosity</th>\n",
              "      <th>Dystopia Residual</th>\n",
              "    </tr>\n",
              "  </thead>\n",
              "  <tbody>\n",
              "    <tr>\n",
              "      <th>0</th>\n",
              "      <td>Switzerland</td>\n",
              "      <td>Western Europe</td>\n",
              "      <td>1</td>\n",
              "      <td>7.587</td>\n",
              "      <td>0.03411</td>\n",
              "      <td>1.39651</td>\n",
              "      <td>1.34951</td>\n",
              "      <td>0.94143</td>\n",
              "      <td>0.66557</td>\n",
              "      <td>0.41978</td>\n",
              "      <td>0.29678</td>\n",
              "      <td>2.51738</td>\n",
              "    </tr>\n",
              "    <tr>\n",
              "      <th>1</th>\n",
              "      <td>Iceland</td>\n",
              "      <td>Western Europe</td>\n",
              "      <td>2</td>\n",
              "      <td>7.561</td>\n",
              "      <td>0.04884</td>\n",
              "      <td>1.30232</td>\n",
              "      <td>1.40223</td>\n",
              "      <td>0.94784</td>\n",
              "      <td>0.62877</td>\n",
              "      <td>0.14145</td>\n",
              "      <td>0.43630</td>\n",
              "      <td>2.70201</td>\n",
              "    </tr>\n",
              "    <tr>\n",
              "      <th>2</th>\n",
              "      <td>Denmark</td>\n",
              "      <td>Western Europe</td>\n",
              "      <td>3</td>\n",
              "      <td>7.527</td>\n",
              "      <td>0.03328</td>\n",
              "      <td>1.32548</td>\n",
              "      <td>1.36058</td>\n",
              "      <td>0.87464</td>\n",
              "      <td>0.64938</td>\n",
              "      <td>0.48357</td>\n",
              "      <td>0.34139</td>\n",
              "      <td>2.49204</td>\n",
              "    </tr>\n",
              "    <tr>\n",
              "      <th>3</th>\n",
              "      <td>Norway</td>\n",
              "      <td>Western Europe</td>\n",
              "      <td>4</td>\n",
              "      <td>7.522</td>\n",
              "      <td>0.03880</td>\n",
              "      <td>1.45900</td>\n",
              "      <td>1.33095</td>\n",
              "      <td>0.88521</td>\n",
              "      <td>0.66973</td>\n",
              "      <td>0.36503</td>\n",
              "      <td>0.34699</td>\n",
              "      <td>2.46531</td>\n",
              "    </tr>\n",
              "    <tr>\n",
              "      <th>4</th>\n",
              "      <td>Canada</td>\n",
              "      <td>North America</td>\n",
              "      <td>5</td>\n",
              "      <td>7.427</td>\n",
              "      <td>0.03553</td>\n",
              "      <td>1.32629</td>\n",
              "      <td>1.32261</td>\n",
              "      <td>0.90563</td>\n",
              "      <td>0.63297</td>\n",
              "      <td>0.32957</td>\n",
              "      <td>0.45811</td>\n",
              "      <td>2.45176</td>\n",
              "    </tr>\n",
              "  </tbody>\n",
              "</table>\n",
              "</div>"
            ],
            "text/plain": [
              "       Country          Region  ...  Generosity  Dystopia Residual\n",
              "0  Switzerland  Western Europe  ...     0.29678            2.51738\n",
              "1      Iceland  Western Europe  ...     0.43630            2.70201\n",
              "2      Denmark  Western Europe  ...     0.34139            2.49204\n",
              "3       Norway  Western Europe  ...     0.34699            2.46531\n",
              "4       Canada   North America  ...     0.45811            2.45176\n",
              "\n",
              "[5 rows x 12 columns]"
            ]
          },
          "metadata": {
            "tags": []
          },
          "execution_count": 14
        }
      ]
    },
    {
      "cell_type": "code",
      "metadata": {
        "id": "Fm-9dzdTRKpe",
        "colab": {
          "base_uri": "https://localhost:8080/",
          "height": 413
        },
        "outputId": "7892eaf7-0605-4b92-e139-cf0553041e51"
      },
      "source": [
        "# To display the botton 5 rows\n",
        "df.tail(5)"
      ],
      "execution_count": null,
      "outputs": [
        {
          "output_type": "execute_result",
          "data": {
            "text/html": [
              "<div>\n",
              "<style scoped>\n",
              "    .dataframe tbody tr th:only-of-type {\n",
              "        vertical-align: middle;\n",
              "    }\n",
              "\n",
              "    .dataframe tbody tr th {\n",
              "        vertical-align: top;\n",
              "    }\n",
              "\n",
              "    .dataframe thead th {\n",
              "        text-align: right;\n",
              "    }\n",
              "</style>\n",
              "<table border=\"1\" class=\"dataframe\">\n",
              "  <thead>\n",
              "    <tr style=\"text-align: right;\">\n",
              "      <th></th>\n",
              "      <th>Make</th>\n",
              "      <th>Model</th>\n",
              "      <th>Year</th>\n",
              "      <th>Engine Fuel Type</th>\n",
              "      <th>Engine HP</th>\n",
              "      <th>Engine Cylinders</th>\n",
              "      <th>Transmission Type</th>\n",
              "      <th>Driven_Wheels</th>\n",
              "      <th>Number of Doors</th>\n",
              "      <th>Market Category</th>\n",
              "      <th>Vehicle Size</th>\n",
              "      <th>Vehicle Style</th>\n",
              "      <th>highway MPG</th>\n",
              "      <th>city mpg</th>\n",
              "      <th>Popularity</th>\n",
              "      <th>MSRP</th>\n",
              "    </tr>\n",
              "  </thead>\n",
              "  <tbody>\n",
              "    <tr>\n",
              "      <th>11909</th>\n",
              "      <td>Acura</td>\n",
              "      <td>ZDX</td>\n",
              "      <td>2012</td>\n",
              "      <td>premium unleaded (required)</td>\n",
              "      <td>300.0</td>\n",
              "      <td>6.0</td>\n",
              "      <td>AUTOMATIC</td>\n",
              "      <td>all wheel drive</td>\n",
              "      <td>4.0</td>\n",
              "      <td>Crossover,Hatchback,Luxury</td>\n",
              "      <td>Midsize</td>\n",
              "      <td>4dr Hatchback</td>\n",
              "      <td>23</td>\n",
              "      <td>16</td>\n",
              "      <td>204</td>\n",
              "      <td>46120</td>\n",
              "    </tr>\n",
              "    <tr>\n",
              "      <th>11910</th>\n",
              "      <td>Acura</td>\n",
              "      <td>ZDX</td>\n",
              "      <td>2012</td>\n",
              "      <td>premium unleaded (required)</td>\n",
              "      <td>300.0</td>\n",
              "      <td>6.0</td>\n",
              "      <td>AUTOMATIC</td>\n",
              "      <td>all wheel drive</td>\n",
              "      <td>4.0</td>\n",
              "      <td>Crossover,Hatchback,Luxury</td>\n",
              "      <td>Midsize</td>\n",
              "      <td>4dr Hatchback</td>\n",
              "      <td>23</td>\n",
              "      <td>16</td>\n",
              "      <td>204</td>\n",
              "      <td>56670</td>\n",
              "    </tr>\n",
              "    <tr>\n",
              "      <th>11911</th>\n",
              "      <td>Acura</td>\n",
              "      <td>ZDX</td>\n",
              "      <td>2012</td>\n",
              "      <td>premium unleaded (required)</td>\n",
              "      <td>300.0</td>\n",
              "      <td>6.0</td>\n",
              "      <td>AUTOMATIC</td>\n",
              "      <td>all wheel drive</td>\n",
              "      <td>4.0</td>\n",
              "      <td>Crossover,Hatchback,Luxury</td>\n",
              "      <td>Midsize</td>\n",
              "      <td>4dr Hatchback</td>\n",
              "      <td>23</td>\n",
              "      <td>16</td>\n",
              "      <td>204</td>\n",
              "      <td>50620</td>\n",
              "    </tr>\n",
              "    <tr>\n",
              "      <th>11912</th>\n",
              "      <td>Acura</td>\n",
              "      <td>ZDX</td>\n",
              "      <td>2013</td>\n",
              "      <td>premium unleaded (recommended)</td>\n",
              "      <td>300.0</td>\n",
              "      <td>6.0</td>\n",
              "      <td>AUTOMATIC</td>\n",
              "      <td>all wheel drive</td>\n",
              "      <td>4.0</td>\n",
              "      <td>Crossover,Hatchback,Luxury</td>\n",
              "      <td>Midsize</td>\n",
              "      <td>4dr Hatchback</td>\n",
              "      <td>23</td>\n",
              "      <td>16</td>\n",
              "      <td>204</td>\n",
              "      <td>50920</td>\n",
              "    </tr>\n",
              "    <tr>\n",
              "      <th>11913</th>\n",
              "      <td>Lincoln</td>\n",
              "      <td>Zephyr</td>\n",
              "      <td>2006</td>\n",
              "      <td>regular unleaded</td>\n",
              "      <td>221.0</td>\n",
              "      <td>6.0</td>\n",
              "      <td>AUTOMATIC</td>\n",
              "      <td>front wheel drive</td>\n",
              "      <td>4.0</td>\n",
              "      <td>Luxury</td>\n",
              "      <td>Midsize</td>\n",
              "      <td>Sedan</td>\n",
              "      <td>26</td>\n",
              "      <td>17</td>\n",
              "      <td>61</td>\n",
              "      <td>28995</td>\n",
              "    </tr>\n",
              "  </tbody>\n",
              "</table>\n",
              "</div>"
            ],
            "text/plain": [
              "          Make   Model  Year  ... city mpg  Popularity   MSRP\n",
              "11909    Acura     ZDX  2012  ...       16         204  46120\n",
              "11910    Acura     ZDX  2012  ...       16         204  56670\n",
              "11911    Acura     ZDX  2012  ...       16         204  50620\n",
              "11912    Acura     ZDX  2013  ...       16         204  50920\n",
              "11913  Lincoln  Zephyr  2006  ...       17          61  28995\n",
              "\n",
              "[5 rows x 16 columns]"
            ]
          },
          "metadata": {
            "tags": []
          },
          "execution_count": 3
        }
      ]
    },
    {
      "cell_type": "markdown",
      "metadata": {
        "id": "JjQnr4SPzaL5"
      },
      "source": [
        "\n",
        "\n",
        "---\n",
        "\n"
      ]
    },
    {
      "cell_type": "markdown",
      "metadata": {
        "id": "vAmC369yTpMF"
      },
      "source": [
        "### 3.2. Checking the types of data"
      ]
    },
    {
      "cell_type": "markdown",
      "metadata": {
        "id": "9ESKxikIzA1d"
      },
      "source": [
        "Check for the datatypes to ensure proper usage of *string* (object), *int* (int64), and *float* (float64).  "
      ]
    },
    {
      "cell_type": "code",
      "metadata": {
        "id": "qPbKQ0noRptD",
        "colab": {
          "base_uri": "https://localhost:8080/"
        },
        "outputId": "1a22293d-83ce-42ba-aab8-2c65aea76f52"
      },
      "source": [
        "# To display the data types\n",
        "df.dtypes"
      ],
      "execution_count": null,
      "outputs": [
        {
          "output_type": "execute_result",
          "data": {
            "text/plain": [
              "Country                           object\n",
              "Region                            object\n",
              "Happiness Rank                     int64\n",
              "Happiness Score                  float64\n",
              "Standard Error                   float64\n",
              "Economy (GDP per Capita)         float64\n",
              "Family                           float64\n",
              "Health (Life Expectancy)         float64\n",
              "Freedom                          float64\n",
              "Trust (Government Corruption)    float64\n",
              "Generosity                       float64\n",
              "Dystopia Residual                float64\n",
              "dtype: object"
            ]
          },
          "metadata": {
            "tags": []
          },
          "execution_count": 15
        }
      ]
    },
    {
      "cell_type": "markdown",
      "metadata": {
        "id": "_hNh6SPEKjvK"
      },
      "source": [
        "#### 3.2.1. Ensure dates are type *date*, numerical data is type *int* or *float*"
      ]
    },
    {
      "cell_type": "markdown",
      "metadata": {
        "id": "gYWgqxqzKy_1"
      },
      "source": [
        "### 3.3. Exploring data frame info"
      ]
    },
    {
      "cell_type": "code",
      "metadata": {
        "colab": {
          "base_uri": "https://localhost:8080/"
        },
        "id": "L0Ql1rmMLANT",
        "outputId": "c6f1b0c6-7adb-4dcb-a936-f1d14c393a57"
      },
      "source": [
        "# To display the info\n",
        "df.info()"
      ],
      "execution_count": null,
      "outputs": [
        {
          "output_type": "stream",
          "text": [
            "<class 'pandas.core.frame.DataFrame'>\n",
            "RangeIndex: 158 entries, 0 to 157\n",
            "Data columns (total 12 columns):\n",
            " #   Column                         Non-Null Count  Dtype  \n",
            "---  ------                         --------------  -----  \n",
            " 0   Country                        158 non-null    object \n",
            " 1   Region                         158 non-null    object \n",
            " 2   Happiness Rank                 158 non-null    int64  \n",
            " 3   Happiness Score                158 non-null    float64\n",
            " 4   Standard Error                 158 non-null    float64\n",
            " 5   Economy (GDP per Capita)       158 non-null    float64\n",
            " 6   Family                         158 non-null    float64\n",
            " 7   Health (Life Expectancy)       158 non-null    float64\n",
            " 8   Freedom                        158 non-null    float64\n",
            " 9   Trust (Government Corruption)  158 non-null    float64\n",
            " 10  Generosity                     158 non-null    float64\n",
            " 11  Dystopia Residual              158 non-null    float64\n",
            "dtypes: float64(9), int64(1), object(2)\n",
            "memory usage: 14.9+ KB\n"
          ],
          "name": "stdout"
        }
      ]
    },
    {
      "cell_type": "markdown",
      "metadata": {
        "id": "6iRFs_AvLOTh"
      },
      "source": [
        "### 3.4. Exploring data frame description  \n",
        "Basic statistical details: count, mean, std, min, max, quartiles"
      ]
    },
    {
      "cell_type": "code",
      "metadata": {
        "colab": {
          "base_uri": "https://localhost:8080/",
          "height": 318
        },
        "id": "g4CRKxuXLe8b",
        "outputId": "7b0ade04-c210-450d-a016-a85744327664"
      },
      "source": [
        "# To display the statistical description\n",
        "df.describe()"
      ],
      "execution_count": null,
      "outputs": [
        {
          "output_type": "execute_result",
          "data": {
            "text/html": [
              "<div>\n",
              "<style scoped>\n",
              "    .dataframe tbody tr th:only-of-type {\n",
              "        vertical-align: middle;\n",
              "    }\n",
              "\n",
              "    .dataframe tbody tr th {\n",
              "        vertical-align: top;\n",
              "    }\n",
              "\n",
              "    .dataframe thead th {\n",
              "        text-align: right;\n",
              "    }\n",
              "</style>\n",
              "<table border=\"1\" class=\"dataframe\">\n",
              "  <thead>\n",
              "    <tr style=\"text-align: right;\">\n",
              "      <th></th>\n",
              "      <th>Happiness Rank</th>\n",
              "      <th>Happiness Score</th>\n",
              "      <th>Standard Error</th>\n",
              "      <th>Economy (GDP per Capita)</th>\n",
              "      <th>Family</th>\n",
              "      <th>Health (Life Expectancy)</th>\n",
              "      <th>Freedom</th>\n",
              "      <th>Trust (Government Corruption)</th>\n",
              "      <th>Generosity</th>\n",
              "      <th>Dystopia Residual</th>\n",
              "    </tr>\n",
              "  </thead>\n",
              "  <tbody>\n",
              "    <tr>\n",
              "      <th>count</th>\n",
              "      <td>158.000000</td>\n",
              "      <td>158.000000</td>\n",
              "      <td>158.000000</td>\n",
              "      <td>158.000000</td>\n",
              "      <td>158.000000</td>\n",
              "      <td>158.000000</td>\n",
              "      <td>158.000000</td>\n",
              "      <td>158.000000</td>\n",
              "      <td>158.000000</td>\n",
              "      <td>158.000000</td>\n",
              "    </tr>\n",
              "    <tr>\n",
              "      <th>mean</th>\n",
              "      <td>79.493671</td>\n",
              "      <td>5.375734</td>\n",
              "      <td>0.047885</td>\n",
              "      <td>0.846137</td>\n",
              "      <td>0.991046</td>\n",
              "      <td>0.630259</td>\n",
              "      <td>0.428615</td>\n",
              "      <td>0.143422</td>\n",
              "      <td>0.237296</td>\n",
              "      <td>2.098977</td>\n",
              "    </tr>\n",
              "    <tr>\n",
              "      <th>std</th>\n",
              "      <td>45.754363</td>\n",
              "      <td>1.145010</td>\n",
              "      <td>0.017146</td>\n",
              "      <td>0.403121</td>\n",
              "      <td>0.272369</td>\n",
              "      <td>0.247078</td>\n",
              "      <td>0.150693</td>\n",
              "      <td>0.120034</td>\n",
              "      <td>0.126685</td>\n",
              "      <td>0.553550</td>\n",
              "    </tr>\n",
              "    <tr>\n",
              "      <th>min</th>\n",
              "      <td>1.000000</td>\n",
              "      <td>2.839000</td>\n",
              "      <td>0.018480</td>\n",
              "      <td>0.000000</td>\n",
              "      <td>0.000000</td>\n",
              "      <td>0.000000</td>\n",
              "      <td>0.000000</td>\n",
              "      <td>0.000000</td>\n",
              "      <td>0.000000</td>\n",
              "      <td>0.328580</td>\n",
              "    </tr>\n",
              "    <tr>\n",
              "      <th>25%</th>\n",
              "      <td>40.250000</td>\n",
              "      <td>4.526000</td>\n",
              "      <td>0.037268</td>\n",
              "      <td>0.545808</td>\n",
              "      <td>0.856823</td>\n",
              "      <td>0.439185</td>\n",
              "      <td>0.328330</td>\n",
              "      <td>0.061675</td>\n",
              "      <td>0.150553</td>\n",
              "      <td>1.759410</td>\n",
              "    </tr>\n",
              "    <tr>\n",
              "      <th>50%</th>\n",
              "      <td>79.500000</td>\n",
              "      <td>5.232500</td>\n",
              "      <td>0.043940</td>\n",
              "      <td>0.910245</td>\n",
              "      <td>1.029510</td>\n",
              "      <td>0.696705</td>\n",
              "      <td>0.435515</td>\n",
              "      <td>0.107220</td>\n",
              "      <td>0.216130</td>\n",
              "      <td>2.095415</td>\n",
              "    </tr>\n",
              "    <tr>\n",
              "      <th>75%</th>\n",
              "      <td>118.750000</td>\n",
              "      <td>6.243750</td>\n",
              "      <td>0.052300</td>\n",
              "      <td>1.158448</td>\n",
              "      <td>1.214405</td>\n",
              "      <td>0.811013</td>\n",
              "      <td>0.549092</td>\n",
              "      <td>0.180255</td>\n",
              "      <td>0.309883</td>\n",
              "      <td>2.462415</td>\n",
              "    </tr>\n",
              "    <tr>\n",
              "      <th>max</th>\n",
              "      <td>158.000000</td>\n",
              "      <td>7.587000</td>\n",
              "      <td>0.136930</td>\n",
              "      <td>1.690420</td>\n",
              "      <td>1.402230</td>\n",
              "      <td>1.025250</td>\n",
              "      <td>0.669730</td>\n",
              "      <td>0.551910</td>\n",
              "      <td>0.795880</td>\n",
              "      <td>3.602140</td>\n",
              "    </tr>\n",
              "  </tbody>\n",
              "</table>\n",
              "</div>"
            ],
            "text/plain": [
              "       Happiness Rank  Happiness Score  ...  Generosity  Dystopia Residual\n",
              "count      158.000000       158.000000  ...  158.000000         158.000000\n",
              "mean        79.493671         5.375734  ...    0.237296           2.098977\n",
              "std         45.754363         1.145010  ...    0.126685           0.553550\n",
              "min          1.000000         2.839000  ...    0.000000           0.328580\n",
              "25%         40.250000         4.526000  ...    0.150553           1.759410\n",
              "50%         79.500000         5.232500  ...    0.216130           2.095415\n",
              "75%        118.750000         6.243750  ...    0.309883           2.462415\n",
              "max        158.000000         7.587000  ...    0.795880           3.602140\n",
              "\n",
              "[8 rows x 10 columns]"
            ]
          },
          "metadata": {
            "tags": []
          },
          "execution_count": 17
        }
      ]
    },
    {
      "cell_type": "markdown",
      "metadata": {
        "id": "ZdlaW53ScSuX"
      },
      "source": [
        "#### 3.4.1. Ensure the *min*, *max*, and *mean* values make sense for the dataset"
      ]
    },
    {
      "cell_type": "markdown",
      "metadata": {
        "id": "beRJyQAezdX8"
      },
      "source": [
        "\n",
        "\n",
        "---\n",
        "\n"
      ]
    },
    {
      "cell_type": "markdown",
      "metadata": {
        "id": "EwmBluibLisv"
      },
      "source": [
        "### 3.5. Exploring data frame column names"
      ]
    },
    {
      "cell_type": "code",
      "metadata": {
        "colab": {
          "base_uri": "https://localhost:8080/"
        },
        "id": "eZHKvSvkLoJL",
        "outputId": "191b06e3-e1ec-4a35-c603-46968d7f4e82"
      },
      "source": [
        "# To display the column names\n",
        "df.columns"
      ],
      "execution_count": null,
      "outputs": [
        {
          "output_type": "execute_result",
          "data": {
            "text/plain": [
              "Index(['Country', 'Region', 'Happiness Rank', 'Happiness Score',\n",
              "       'Standard Error', 'Economy (GDP per Capita)', 'Family',\n",
              "       'Health (Life Expectancy)', 'Freedom', 'Trust (Government Corruption)',\n",
              "       'Generosity', 'Dystopia Residual'],\n",
              "      dtype='object')"
            ]
          },
          "metadata": {
            "tags": []
          },
          "execution_count": 19
        }
      ]
    },
    {
      "cell_type": "markdown",
      "metadata": {
        "id": "QoHuBhXxT5E9"
      },
      "source": [
        "## 4. Data Cleaning"
      ]
    },
    {
      "cell_type": "markdown",
      "metadata": {
        "id": "MM1sAZCyW1LS"
      },
      "source": [
        "### 4.1. Dropping columns"
      ]
    },
    {
      "cell_type": "markdown",
      "metadata": {
        "id": "_3cy877Mze4H"
      },
      "source": [
        "Check columns that can be ommitted from the dataset"
      ]
    },
    {
      "cell_type": "code",
      "metadata": {
        "id": "uvSkK8swTr9H",
        "colab": {
          "base_uri": "https://localhost:8080/",
          "height": 36
        },
        "outputId": "5378819c-774a-4cc1-daf5-d16139174ab0"
      },
      "source": [
        "'''\n",
        "df = df.drop(['Engine Fuel Type', 'Market Category', 'Vehicle Style', 'Popularity', 'Number of Doors', 'Vehicle Size'], axis=1)\n",
        "df.head(5)\n",
        "'''"
      ],
      "execution_count": null,
      "outputs": [
        {
          "output_type": "execute_result",
          "data": {
            "application/vnd.google.colaboratory.intrinsic+json": {
              "type": "string"
            },
            "text/plain": [
              "\"\\ndf = df.drop(['Engine Fuel Type', 'Market Category', 'Vehicle Style', 'Popularity', 'Number of Doors', 'Vehicle Size'], axis=1)\\ndf.head(5)\\n\""
            ]
          },
          "metadata": {
            "tags": []
          },
          "execution_count": 20
        }
      ]
    },
    {
      "cell_type": "markdown",
      "metadata": {
        "id": "20OeQBpWz89v"
      },
      "source": [
        "\n",
        "\n",
        "---\n",
        "\n"
      ]
    },
    {
      "cell_type": "markdown",
      "metadata": {
        "id": "caAownWdUZso"
      },
      "source": [
        "### 4.2. Renaming columns"
      ]
    },
    {
      "cell_type": "markdown",
      "metadata": {
        "id": "UABLiEcyz-2G"
      },
      "source": [
        "Check the readability of the remaining column names, improving the readability of the data set."
      ]
    },
    {
      "cell_type": "code",
      "metadata": {
        "id": "1wHW41whURub",
        "colab": {
          "base_uri": "https://localhost:8080/",
          "height": 54
        },
        "outputId": "75b95207-6619-4c51-9c8d-91f8fa9191d7"
      },
      "source": [
        "'''\n",
        "# To rename the columns\n",
        "df = df.rename(columns={\"Engine HP\": \"HP\", \"Engine Cylinders\": \"Cylinders\", \"Transmission Type\": \"Transmission\", \"Driven_Wheels\": \"Drive Mode\",\"highway MPG\": \"MPG-H\", \"city mpg\": \"MPG-C\", \"MSRP\": \"Price\" })\n",
        "# To check the new column names\n",
        "df.head(5)\n",
        "'''"
      ],
      "execution_count": null,
      "outputs": [
        {
          "output_type": "execute_result",
          "data": {
            "application/vnd.google.colaboratory.intrinsic+json": {
              "type": "string"
            },
            "text/plain": [
              "'\\n# To rename the columns\\ndf = df.rename(columns={\"Engine HP\": \"HP\", \"Engine Cylinders\": \"Cylinders\", \"Transmission Type\": \"Transmission\", \"Driven_Wheels\": \"Drive Mode\",\"highway MPG\": \"MPG-H\", \"city mpg\": \"MPG-C\", \"MSRP\": \"Price\" })\\n# To check the new column names\\ndf.head(5)\\n'"
            ]
          },
          "metadata": {
            "tags": []
          },
          "execution_count": 21
        }
      ]
    },
    {
      "cell_type": "markdown",
      "metadata": {
        "id": "5tcGiOmV0afN"
      },
      "source": [
        "\n",
        "\n",
        "---\n",
        "\n"
      ]
    },
    {
      "cell_type": "markdown",
      "metadata": {
        "id": "uiW7x_O4WIDX"
      },
      "source": [
        "### 4.3. Dropping duplicate rows"
      ]
    },
    {
      "cell_type": "markdown",
      "metadata": {
        "id": "9LpR5NW70hXm"
      },
      "source": [
        "Check the instance of duplicated data within the dataset.  Generally, the larger the dataset, the higher probability of having duplicates."
      ]
    },
    {
      "cell_type": "code",
      "metadata": {
        "id": "1nBN_BCDWSmv",
        "colab": {
          "base_uri": "https://localhost:8080/"
        },
        "outputId": "d0e52a3d-a95f-4a74-f22e-1db1658a08d4"
      },
      "source": [
        "# To display dataset (rows, columns)\n",
        "df.shape"
      ],
      "execution_count": null,
      "outputs": [
        {
          "output_type": "execute_result",
          "data": {
            "text/plain": [
              "(158, 12)"
            ]
          },
          "metadata": {
            "tags": []
          },
          "execution_count": 22
        }
      ]
    },
    {
      "cell_type": "code",
      "metadata": {
        "id": "yB8t6o0wH7If",
        "colab": {
          "base_uri": "https://localhost:8080/"
        },
        "outputId": "75ed0627-f330-478b-f081-62b7fb90ccb7"
      },
      "source": [
        "# To display the duplicate rows as a new data frame\n",
        "duplicate_rows_df = df[df.duplicated()]\n",
        "print(\"Number of duplicate rows: \", duplicate_rows_df.shape)"
      ],
      "execution_count": null,
      "outputs": [
        {
          "output_type": "stream",
          "text": [
            "Number of duplicate rows:  (0, 12)\n"
          ],
          "name": "stdout"
        }
      ]
    },
    {
      "cell_type": "markdown",
      "metadata": {
        "id": "chhNvMFCIzqI"
      },
      "source": [
        "Remove the duplicate rows if they exist and can be removed."
      ]
    },
    {
      "cell_type": "code",
      "metadata": {
        "id": "kuobmetTV820",
        "colab": {
          "base_uri": "https://localhost:8080/"
        },
        "outputId": "fd83aea7-2275-4680-b44c-552c9f21b7fb"
      },
      "source": [
        "# To display the number of rows\n",
        "df.count()"
      ],
      "execution_count": null,
      "outputs": [
        {
          "output_type": "execute_result",
          "data": {
            "text/plain": [
              "Country                          158\n",
              "Region                           158\n",
              "Happiness Rank                   158\n",
              "Happiness Score                  158\n",
              "Standard Error                   158\n",
              "Economy (GDP per Capita)         158\n",
              "Family                           158\n",
              "Health (Life Expectancy)         158\n",
              "Freedom                          158\n",
              "Trust (Government Corruption)    158\n",
              "Generosity                       158\n",
              "Dystopia Residual                158\n",
              "dtype: int64"
            ]
          },
          "metadata": {
            "tags": []
          },
          "execution_count": 24
        }
      ]
    },
    {
      "cell_type": "markdown",
      "metadata": {
        "id": "_MJKjbzHI40K"
      },
      "source": [
        "The display above indicates ______ rows and removing _____ rows of duplicate data."
      ]
    },
    {
      "cell_type": "code",
      "metadata": {
        "id": "OiOsEF6WVTSj",
        "colab": {
          "base_uri": "https://localhost:8080/",
          "height": 293
        },
        "outputId": "af35b616-2837-47e3-ddc3-dc1dbfde8819"
      },
      "source": [
        "# To drop the duplicated data\n",
        "df = df.drop_duplicates()\n",
        "df.head(5)"
      ],
      "execution_count": null,
      "outputs": [
        {
          "output_type": "execute_result",
          "data": {
            "text/html": [
              "<div>\n",
              "<style scoped>\n",
              "    .dataframe tbody tr th:only-of-type {\n",
              "        vertical-align: middle;\n",
              "    }\n",
              "\n",
              "    .dataframe tbody tr th {\n",
              "        vertical-align: top;\n",
              "    }\n",
              "\n",
              "    .dataframe thead th {\n",
              "        text-align: right;\n",
              "    }\n",
              "</style>\n",
              "<table border=\"1\" class=\"dataframe\">\n",
              "  <thead>\n",
              "    <tr style=\"text-align: right;\">\n",
              "      <th></th>\n",
              "      <th>Country</th>\n",
              "      <th>Region</th>\n",
              "      <th>Happiness Rank</th>\n",
              "      <th>Happiness Score</th>\n",
              "      <th>Standard Error</th>\n",
              "      <th>Economy (GDP per Capita)</th>\n",
              "      <th>Family</th>\n",
              "      <th>Health (Life Expectancy)</th>\n",
              "      <th>Freedom</th>\n",
              "      <th>Trust (Government Corruption)</th>\n",
              "      <th>Generosity</th>\n",
              "      <th>Dystopia Residual</th>\n",
              "    </tr>\n",
              "  </thead>\n",
              "  <tbody>\n",
              "    <tr>\n",
              "      <th>0</th>\n",
              "      <td>Switzerland</td>\n",
              "      <td>Western Europe</td>\n",
              "      <td>1</td>\n",
              "      <td>7.587</td>\n",
              "      <td>0.03411</td>\n",
              "      <td>1.39651</td>\n",
              "      <td>1.34951</td>\n",
              "      <td>0.94143</td>\n",
              "      <td>0.66557</td>\n",
              "      <td>0.41978</td>\n",
              "      <td>0.29678</td>\n",
              "      <td>2.51738</td>\n",
              "    </tr>\n",
              "    <tr>\n",
              "      <th>1</th>\n",
              "      <td>Iceland</td>\n",
              "      <td>Western Europe</td>\n",
              "      <td>2</td>\n",
              "      <td>7.561</td>\n",
              "      <td>0.04884</td>\n",
              "      <td>1.30232</td>\n",
              "      <td>1.40223</td>\n",
              "      <td>0.94784</td>\n",
              "      <td>0.62877</td>\n",
              "      <td>0.14145</td>\n",
              "      <td>0.43630</td>\n",
              "      <td>2.70201</td>\n",
              "    </tr>\n",
              "    <tr>\n",
              "      <th>2</th>\n",
              "      <td>Denmark</td>\n",
              "      <td>Western Europe</td>\n",
              "      <td>3</td>\n",
              "      <td>7.527</td>\n",
              "      <td>0.03328</td>\n",
              "      <td>1.32548</td>\n",
              "      <td>1.36058</td>\n",
              "      <td>0.87464</td>\n",
              "      <td>0.64938</td>\n",
              "      <td>0.48357</td>\n",
              "      <td>0.34139</td>\n",
              "      <td>2.49204</td>\n",
              "    </tr>\n",
              "    <tr>\n",
              "      <th>3</th>\n",
              "      <td>Norway</td>\n",
              "      <td>Western Europe</td>\n",
              "      <td>4</td>\n",
              "      <td>7.522</td>\n",
              "      <td>0.03880</td>\n",
              "      <td>1.45900</td>\n",
              "      <td>1.33095</td>\n",
              "      <td>0.88521</td>\n",
              "      <td>0.66973</td>\n",
              "      <td>0.36503</td>\n",
              "      <td>0.34699</td>\n",
              "      <td>2.46531</td>\n",
              "    </tr>\n",
              "    <tr>\n",
              "      <th>4</th>\n",
              "      <td>Canada</td>\n",
              "      <td>North America</td>\n",
              "      <td>5</td>\n",
              "      <td>7.427</td>\n",
              "      <td>0.03553</td>\n",
              "      <td>1.32629</td>\n",
              "      <td>1.32261</td>\n",
              "      <td>0.90563</td>\n",
              "      <td>0.63297</td>\n",
              "      <td>0.32957</td>\n",
              "      <td>0.45811</td>\n",
              "      <td>2.45176</td>\n",
              "    </tr>\n",
              "  </tbody>\n",
              "</table>\n",
              "</div>"
            ],
            "text/plain": [
              "       Country          Region  ...  Generosity  Dystopia Residual\n",
              "0  Switzerland  Western Europe  ...     0.29678            2.51738\n",
              "1      Iceland  Western Europe  ...     0.43630            2.70201\n",
              "2      Denmark  Western Europe  ...     0.34139            2.49204\n",
              "3       Norway  Western Europe  ...     0.34699            2.46531\n",
              "4       Canada   North America  ...     0.45811            2.45176\n",
              "\n",
              "[5 rows x 12 columns]"
            ]
          },
          "metadata": {
            "tags": []
          },
          "execution_count": 25
        }
      ]
    },
    {
      "cell_type": "code",
      "metadata": {
        "id": "2gMM4lb0Vzor",
        "colab": {
          "base_uri": "https://localhost:8080/"
        },
        "outputId": "9c617a85-6f10-4701-8c60-dd28cf0619ec"
      },
      "source": [
        "# To count the number of rows after dropping duplicates \n",
        "df.count()"
      ],
      "execution_count": null,
      "outputs": [
        {
          "output_type": "execute_result",
          "data": {
            "text/plain": [
              "Country                          158\n",
              "Region                           158\n",
              "Happiness Rank                   158\n",
              "Happiness Score                  158\n",
              "Standard Error                   158\n",
              "Economy (GDP per Capita)         158\n",
              "Family                           158\n",
              "Health (Life Expectancy)         158\n",
              "Freedom                          158\n",
              "Trust (Government Corruption)    158\n",
              "Generosity                       158\n",
              "Dystopia Residual                158\n",
              "dtype: int64"
            ]
          },
          "metadata": {
            "tags": []
          },
          "execution_count": 26
        }
      ]
    },
    {
      "cell_type": "markdown",
      "metadata": {
        "id": "zCLUdZOQ1PDP"
      },
      "source": [
        "\n",
        "\n",
        "---\n",
        "\n"
      ]
    },
    {
      "cell_type": "markdown",
      "metadata": {
        "id": "JkXUQtyQW3Dy"
      },
      "source": [
        "### 4.4. Dropping missing or null values."
      ]
    },
    {
      "cell_type": "markdown",
      "metadata": {
        "id": "K5pKvJi41YCp"
      },
      "source": [
        "This is mostly similar to the previous step but in here all the missing values are detected and are dropped later. Now, this is not a good approach to do so, because many people just replace the missing values with the mean or the average of that column, but in this case, I just dropped that missing values. This is because there is nearly 100 missing value compared to 10, 000 values this is a small number and this is negligible so I just dropped those values."
      ]
    },
    {
      "cell_type": "code",
      "metadata": {
        "id": "Tzdlg-1OWjMz",
        "colab": {
          "base_uri": "https://localhost:8080/"
        },
        "outputId": "a1a62280-7344-4329-80bb-86703c696136"
      },
      "source": [
        "# To display null values\n",
        "print(df.isnull().sum())"
      ],
      "execution_count": null,
      "outputs": [
        {
          "output_type": "stream",
          "text": [
            "Country                          0\n",
            "Region                           0\n",
            "Happiness Rank                   0\n",
            "Happiness Score                  0\n",
            "Standard Error                   0\n",
            "Economy (GDP per Capita)         0\n",
            "Family                           0\n",
            "Health (Life Expectancy)         0\n",
            "Freedom                          0\n",
            "Trust (Government Corruption)    0\n",
            "Generosity                       0\n",
            "Dystopia Residual                0\n",
            "dtype: int64\n"
          ],
          "name": "stdout"
        }
      ]
    },
    {
      "cell_type": "code",
      "metadata": {
        "id": "KbbV0xHPWoad",
        "colab": {
          "base_uri": "https://localhost:8080/"
        },
        "outputId": "91266392-88a0-42d4-88f3-2ef1d8e29585"
      },
      "source": [
        "# To drop the null values\n",
        "df = df.dropna()\n",
        "df.count()"
      ],
      "execution_count": null,
      "outputs": [
        {
          "output_type": "execute_result",
          "data": {
            "text/plain": [
              "Country                          158\n",
              "Region                           158\n",
              "Happiness Rank                   158\n",
              "Happiness Score                  158\n",
              "Standard Error                   158\n",
              "Economy (GDP per Capita)         158\n",
              "Family                           158\n",
              "Health (Life Expectancy)         158\n",
              "Freedom                          158\n",
              "Trust (Government Corruption)    158\n",
              "Generosity                       158\n",
              "Dystopia Residual                158\n",
              "dtype: int64"
            ]
          },
          "metadata": {
            "tags": []
          },
          "execution_count": 28
        }
      ]
    },
    {
      "cell_type": "markdown",
      "metadata": {
        "id": "2t7L9l2mJSoX"
      },
      "source": [
        "Now we have removed all the rows which contain the Null or N/A values (Cylinders and Horsepower (HP))."
      ]
    },
    {
      "cell_type": "code",
      "metadata": {
        "id": "V-DmX1O4Wtox",
        "colab": {
          "base_uri": "https://localhost:8080/"
        },
        "outputId": "a1d909ad-b4c2-4e9e-ef1e-b53ca19ed9d0"
      },
      "source": [
        "# To display the null values after dropping\n",
        "print(df.isnull().sum())"
      ],
      "execution_count": null,
      "outputs": [
        {
          "output_type": "stream",
          "text": [
            "Country                          0\n",
            "Region                           0\n",
            "Happiness Rank                   0\n",
            "Happiness Score                  0\n",
            "Standard Error                   0\n",
            "Economy (GDP per Capita)         0\n",
            "Family                           0\n",
            "Health (Life Expectancy)         0\n",
            "Freedom                          0\n",
            "Trust (Government Corruption)    0\n",
            "Generosity                       0\n",
            "Dystopia Residual                0\n",
            "dtype: int64\n"
          ],
          "name": "stdout"
        }
      ]
    },
    {
      "cell_type": "markdown",
      "metadata": {
        "id": "bk8RAHqQJVJK"
      },
      "source": [
        "\n",
        "\n",
        "---\n",
        "\n"
      ]
    },
    {
      "cell_type": "markdown",
      "metadata": {
        "id": "8Py3sQc_ZxyU"
      },
      "source": [
        "## 5. Model Building"
      ]
    },
    {
      "cell_type": "markdown",
      "metadata": {
        "id": "YY9bb96wYod_"
      },
      "source": [
        "**Detecting Outliers**"
      ]
    },
    {
      "cell_type": "markdown",
      "metadata": {
        "id": "eF40xKowZDCO"
      },
      "source": [
        "### 5.1. Box plots"
      ]
    },
    {
      "cell_type": "markdown",
      "metadata": {
        "id": "S6Qm5AQykmu9"
      },
      "source": [
        "Use box plots to detect data value outliers."
      ]
    },
    {
      "cell_type": "code",
      "metadata": {
        "id": "vtxX_y6zZ2ri",
        "colab": {
          "base_uri": "https://localhost:8080/",
          "height": 374
        },
        "outputId": "a378722e-06d6-4a1c-fb3f-c81e82294911"
      },
      "source": [
        "'''\n",
        "# To display box plots for all columns\n",
        "for column in df.columns:\n",
        "  plt.figure()\n",
        "  sns.boxplot(x=df[column])\n",
        "'''"
      ],
      "execution_count": null,
      "outputs": [
        {
          "output_type": "error",
          "ename": "AttributeError",
          "evalue": "ignored",
          "traceback": [
            "\u001b[0;31m---------------------------------------------------------------------------\u001b[0m",
            "\u001b[0;31mAttributeError\u001b[0m                            Traceback (most recent call last)",
            "\u001b[0;32m<ipython-input-40-731277ccc33b>\u001b[0m in \u001b[0;36m<module>\u001b[0;34m()\u001b[0m\n\u001b[1;32m      1\u001b[0m \u001b[0;34m\u001b[0m\u001b[0m\n\u001b[1;32m      2\u001b[0m \u001b[0;31m# To display box plots\u001b[0m\u001b[0;34m\u001b[0m\u001b[0;34m\u001b[0m\u001b[0;34m\u001b[0m\u001b[0m\n\u001b[0;32m----> 3\u001b[0;31m \u001b[0;32mfor\u001b[0m \u001b[0mrow\u001b[0m \u001b[0;32min\u001b[0m \u001b[0mdf\u001b[0m\u001b[0;34m.\u001b[0m\u001b[0mrows\u001b[0m\u001b[0;34m:\u001b[0m\u001b[0;34m\u001b[0m\u001b[0;34m\u001b[0m\u001b[0m\n\u001b[0m\u001b[1;32m      4\u001b[0m   \u001b[0mplt\u001b[0m\u001b[0;34m.\u001b[0m\u001b[0mfigure\u001b[0m\u001b[0;34m(\u001b[0m\u001b[0;34m)\u001b[0m\u001b[0;34m\u001b[0m\u001b[0;34m\u001b[0m\u001b[0m\n\u001b[1;32m      5\u001b[0m   \u001b[0msns\u001b[0m\u001b[0;34m.\u001b[0m\u001b[0mboxplot\u001b[0m\u001b[0;34m(\u001b[0m\u001b[0mx\u001b[0m\u001b[0;34m=\u001b[0m\u001b[0mdf\u001b[0m\u001b[0;34m[\u001b[0m\u001b[0mrow\u001b[0m\u001b[0;34m]\u001b[0m\u001b[0;34m)\u001b[0m\u001b[0;34m\u001b[0m\u001b[0;34m\u001b[0m\u001b[0m\n",
            "\u001b[0;32m/usr/local/lib/python3.7/dist-packages/pandas/core/generic.py\u001b[0m in \u001b[0;36m__getattr__\u001b[0;34m(self, name)\u001b[0m\n\u001b[1;32m   5139\u001b[0m             \u001b[0;32mif\u001b[0m \u001b[0mself\u001b[0m\u001b[0;34m.\u001b[0m\u001b[0m_info_axis\u001b[0m\u001b[0;34m.\u001b[0m\u001b[0m_can_hold_identifiers_and_holds_name\u001b[0m\u001b[0;34m(\u001b[0m\u001b[0mname\u001b[0m\u001b[0;34m)\u001b[0m\u001b[0;34m:\u001b[0m\u001b[0;34m\u001b[0m\u001b[0;34m\u001b[0m\u001b[0m\n\u001b[1;32m   5140\u001b[0m                 \u001b[0;32mreturn\u001b[0m \u001b[0mself\u001b[0m\u001b[0;34m[\u001b[0m\u001b[0mname\u001b[0m\u001b[0;34m]\u001b[0m\u001b[0;34m\u001b[0m\u001b[0;34m\u001b[0m\u001b[0m\n\u001b[0;32m-> 5141\u001b[0;31m             \u001b[0;32mreturn\u001b[0m \u001b[0mobject\u001b[0m\u001b[0;34m.\u001b[0m\u001b[0m__getattribute__\u001b[0m\u001b[0;34m(\u001b[0m\u001b[0mself\u001b[0m\u001b[0;34m,\u001b[0m \u001b[0mname\u001b[0m\u001b[0;34m)\u001b[0m\u001b[0;34m\u001b[0m\u001b[0;34m\u001b[0m\u001b[0m\n\u001b[0m\u001b[1;32m   5142\u001b[0m \u001b[0;34m\u001b[0m\u001b[0m\n\u001b[1;32m   5143\u001b[0m     \u001b[0;32mdef\u001b[0m \u001b[0m__setattr__\u001b[0m\u001b[0;34m(\u001b[0m\u001b[0mself\u001b[0m\u001b[0;34m,\u001b[0m \u001b[0mname\u001b[0m\u001b[0;34m:\u001b[0m \u001b[0mstr\u001b[0m\u001b[0;34m,\u001b[0m \u001b[0mvalue\u001b[0m\u001b[0;34m)\u001b[0m \u001b[0;34m->\u001b[0m \u001b[0;32mNone\u001b[0m\u001b[0;34m:\u001b[0m\u001b[0;34m\u001b[0m\u001b[0;34m\u001b[0m\u001b[0m\n",
            "\u001b[0;31mAttributeError\u001b[0m: 'DataFrame' object has no attribute 'rows'"
          ]
        }
      ]
    },
    {
      "cell_type": "code",
      "metadata": {
        "id": "9HtvQYVHZ8u5",
        "colab": {
          "base_uri": "https://localhost:8080/",
          "height": 640
        },
        "outputId": "baa80302-fa52-423f-a963-1c896d327043"
      },
      "source": [
        "# To display box plot for specific column\n",
        "sns.boxplot(x=df['Happiness Score'])"
      ],
      "execution_count": null,
      "outputs": [
        {
          "output_type": "execute_result",
          "data": {
            "text/plain": [
              "<matplotlib.axes._subplots.AxesSubplot at 0x7fb46f745390>"
            ]
          },
          "metadata": {
            "tags": []
          },
          "execution_count": 39
        },
        {
          "output_type": "display_data",
          "data": {
            "image/png": "[encoded data removed]",
            "text/plain": [
              "<Figure size 1440x720 with 1 Axes>"
            ]
          },
          "metadata": {
            "tags": [],
            "needs_background": "light"
          }
        }
      ]
    },
    {
      "cell_type": "code",
      "metadata": {
        "id": "Xz3MwIjbaBUr"
      },
      "source": [
        "'''\n",
        "# To display box plot for specific column\n",
        "sns.boxplot(x=df['column_name'])\n",
        "'''"
      ],
      "execution_count": null,
      "outputs": []
    },
    {
      "cell_type": "markdown",
      "metadata": {
        "id": "1g6CJPofZzHN"
      },
      "source": [
        "Outliers are a point or set of points that are different from other points, sometimes they can *be* very high or very low.  Outliers are one of the primary reasons for resulting in a less accurate model we are going to remove them using the IQR score technique.  Outliers can be seen with visualizations using a Box Plot.   \n",
        "IQR score technique from [Towards Data Science](https://towardsdatascience.com/ways-to-detect-and-remove-the-outliers-404d16608dba)."
      ]
    },
    {
      "cell_type": "code",
      "metadata": {
        "id": "cFG9hck7aHUx",
        "colab": {
          "base_uri": "https://localhost:8080/"
        },
        "outputId": "abfce73f-4db6-4f95-e24b-1dd7cd80f2d9"
      },
      "source": [
        "# To display Quantile for IQR score\n",
        "q1 = df.quantile(0.25)\n",
        "q3 = df.quantile(0.75)\n",
        "iqr_score = q3 - q1\n",
        "print(iqr_score)"
      ],
      "execution_count": null,
      "outputs": [
        {
          "output_type": "stream",
          "text": [
            "Happiness Rank                   78.500000\n",
            "Happiness Score                   1.717750\n",
            "Standard Error                    0.015032\n",
            "Economy (GDP per Capita)          0.612640\n",
            "Family                            0.357582\n",
            "Health (Life Expectancy)          0.371828\n",
            "Freedom                           0.220762\n",
            "Trust (Government Corruption)     0.118580\n",
            "Generosity                        0.159330\n",
            "Dystopia Residual                 0.703005\n",
            "dtype: float64\n"
          ],
          "name": "stdout"
        }
      ]
    },
    {
      "cell_type": "code",
      "metadata": {
        "id": "igh_mRXeaJrI",
        "colab": {
          "base_uri": "https://localhost:8080/"
        },
        "outputId": "53d9e3f6-f3fa-4375-c02a-ddb15adb7a9b"
      },
      "source": [
        "df = df[~((df < (q1 - 1.5 * iqr_score)) |(df > (q3 + 1.5 * iqr_score))).any(axis=1)]\n",
        "df.shape"
      ],
      "execution_count": null,
      "outputs": [
        {
          "output_type": "execute_result",
          "data": {
            "text/plain": [
              "(126, 12)"
            ]
          },
          "metadata": {
            "tags": []
          },
          "execution_count": 42
        }
      ]
    },
    {
      "cell_type": "markdown",
      "metadata": {
        "id": "Z87kHbgvaQbb"
      },
      "source": [
        "\n",
        "\n",
        "---\n",
        "\n"
      ]
    },
    {
      "cell_type": "markdown",
      "metadata": {
        "id": "Z-W6Q9-hJosZ"
      },
      "source": [
        "### 5.2. Histograms\n",
        "\n",
        "Use histogram display the frequency of occurrence of variables in an interval."
      ]
    },
    {
      "cell_type": "code",
      "metadata": {
        "colab": {
          "base_uri": "https://localhost:8080/",
          "height": 605
        },
        "id": "3H7Tj5YFjNZG",
        "outputId": "51a14434-1dae-4d10-aa08-e80a6c2e5edd"
      },
      "source": [
        "'''\n",
        "# To display histograms for all columns\n",
        "df.columns.value_counts().nlargest(40).plot(kind='bar', figsize=(10,5))\n",
        "'''"
      ],
      "execution_count": null,
      "outputs": [
        {
          "output_type": "execute_result",
          "data": {
            "text/plain": [
              "<matplotlib.axes._subplots.AxesSubplot at 0x7fb46f653610>"
            ]
          },
          "metadata": {
            "tags": []
          },
          "execution_count": 43
        },
        {
          "output_type": "display_data",
          "data": {
            "image/png": "[encoded data removed]",
            "text/plain": [
              "<Figure size 720x360 with 1 Axes>"
            ]
          },
          "metadata": {
            "tags": [],
            "needs_background": "light"
          }
        }
      ]
    },
    {
      "cell_type": "code",
      "metadata": {
        "id": "dAnd4DSyeHDb",
        "colab": {
          "base_uri": "https://localhost:8080/",
          "height": 54
        },
        "outputId": "fd5db94e-ba60-4811-876f-0455d72b3976"
      },
      "source": [
        "'''\n",
        "# To display histogram for specific column\n",
        "df.Economy.value_counts().nlargest(40).plot(kind='bar', figsize=(10,5))\n",
        "plt.title(\"Number of cars by make\")\n",
        "plt.ylabel('Number of cars')\n",
        "plt.xlabel('Make');\n",
        "'''"
      ],
      "execution_count": null,
      "outputs": [
        {
          "output_type": "execute_result",
          "data": {
            "application/vnd.google.colaboratory.intrinsic+json": {
              "type": "string"
            },
            "text/plain": [
              "'\\n# To display histogram for specific column\\ndf.Economy.value_counts().nlargest(40).plot(kind=\\'bar\\', figsize=(10,5))\\nplt.title(\"Number of cars by make\")\\nplt.ylabel(\\'Number of cars\\')\\nplt.xlabel(\\'Make\\');\\n'"
            ]
          },
          "metadata": {
            "tags": []
          },
          "execution_count": 46
        }
      ]
    },
    {
      "cell_type": "markdown",
      "metadata": {
        "id": "c37WtYYWJuAQ"
      },
      "source": [
        "### 5.3. Heat Maps\n",
        "\n",
        "Use heat maps to find the dependent variables."
      ]
    },
    {
      "cell_type": "code",
      "metadata": {
        "id": "yhHfLVTj6nmy",
        "colab": {
          "base_uri": "https://localhost:8080/",
          "height": 1000
        },
        "outputId": "362d8a44-8108-49ad-ff6c-3847dd386f6e"
      },
      "source": [
        "# To calculate the correlation coefficient matrix\n",
        "df_corr = df.corr()\n",
        "# To plot the Heat Map\n",
        "sns.heatmap(df_corr, annot=True)\n",
        "df_corr"
      ],
      "execution_count": null,
      "outputs": [
        {
          "output_type": "execute_result",
          "data": {
            "text/html": [
              "<div>\n",
              "<style scoped>\n",
              "    .dataframe tbody tr th:only-of-type {\n",
              "        vertical-align: middle;\n",
              "    }\n",
              "\n",
              "    .dataframe tbody tr th {\n",
              "        vertical-align: top;\n",
              "    }\n",
              "\n",
              "    .dataframe thead th {\n",
              "        text-align: right;\n",
              "    }\n",
              "</style>\n",
              "<table border=\"1\" class=\"dataframe\">\n",
              "  <thead>\n",
              "    <tr style=\"text-align: right;\">\n",
              "      <th></th>\n",
              "      <th>Happiness Rank</th>\n",
              "      <th>Happiness Score</th>\n",
              "      <th>Standard Error</th>\n",
              "      <th>Economy (GDP per Capita)</th>\n",
              "      <th>Family</th>\n",
              "      <th>Health (Life Expectancy)</th>\n",
              "      <th>Freedom</th>\n",
              "      <th>Trust (Government Corruption)</th>\n",
              "      <th>Generosity</th>\n",
              "      <th>Dystopia Residual</th>\n",
              "    </tr>\n",
              "  </thead>\n",
              "  <tbody>\n",
              "    <tr>\n",
              "      <th>Happiness Rank</th>\n",
              "      <td>1.000000</td>\n",
              "      <td>-0.993677</td>\n",
              "      <td>0.156377</td>\n",
              "      <td>-0.756786</td>\n",
              "      <td>-0.695548</td>\n",
              "      <td>-0.747976</td>\n",
              "      <td>-0.492089</td>\n",
              "      <td>-0.376033</td>\n",
              "      <td>-0.191605</td>\n",
              "      <td>-0.553745</td>\n",
              "    </tr>\n",
              "    <tr>\n",
              "      <th>Happiness Score</th>\n",
              "      <td>-0.993677</td>\n",
              "      <td>1.000000</td>\n",
              "      <td>-0.157193</td>\n",
              "      <td>0.752534</td>\n",
              "      <td>0.696713</td>\n",
              "      <td>0.736381</td>\n",
              "      <td>0.496880</td>\n",
              "      <td>0.395694</td>\n",
              "      <td>0.221986</td>\n",
              "      <td>0.562964</td>\n",
              "    </tr>\n",
              "    <tr>\n",
              "      <th>Standard Error</th>\n",
              "      <td>0.156377</td>\n",
              "      <td>-0.157193</td>\n",
              "      <td>1.000000</td>\n",
              "      <td>-0.123537</td>\n",
              "      <td>-0.070953</td>\n",
              "      <td>-0.192208</td>\n",
              "      <td>-0.120855</td>\n",
              "      <td>-0.092994</td>\n",
              "      <td>-0.063425</td>\n",
              "      <td>-0.043471</td>\n",
              "    </tr>\n",
              "    <tr>\n",
              "      <th>Economy (GDP per Capita)</th>\n",
              "      <td>-0.756786</td>\n",
              "      <td>0.752534</td>\n",
              "      <td>-0.123537</td>\n",
              "      <td>1.000000</td>\n",
              "      <td>0.615629</td>\n",
              "      <td>0.795092</td>\n",
              "      <td>0.247511</td>\n",
              "      <td>0.241278</td>\n",
              "      <td>-0.045295</td>\n",
              "      <td>0.046581</td>\n",
              "    </tr>\n",
              "    <tr>\n",
              "      <th>Family</th>\n",
              "      <td>-0.695548</td>\n",
              "      <td>0.696713</td>\n",
              "      <td>-0.070953</td>\n",
              "      <td>0.615629</td>\n",
              "      <td>1.000000</td>\n",
              "      <td>0.503143</td>\n",
              "      <td>0.415890</td>\n",
              "      <td>0.266393</td>\n",
              "      <td>0.092067</td>\n",
              "      <td>0.078556</td>\n",
              "    </tr>\n",
              "    <tr>\n",
              "      <th>Health (Life Expectancy)</th>\n",
              "      <td>-0.747976</td>\n",
              "      <td>0.736381</td>\n",
              "      <td>-0.192208</td>\n",
              "      <td>0.795092</td>\n",
              "      <td>0.503143</td>\n",
              "      <td>1.000000</td>\n",
              "      <td>0.273920</td>\n",
              "      <td>0.127837</td>\n",
              "      <td>0.077516</td>\n",
              "      <td>0.104591</td>\n",
              "    </tr>\n",
              "    <tr>\n",
              "      <th>Freedom</th>\n",
              "      <td>-0.492089</td>\n",
              "      <td>0.496880</td>\n",
              "      <td>-0.120855</td>\n",
              "      <td>0.247511</td>\n",
              "      <td>0.415890</td>\n",
              "      <td>0.273920</td>\n",
              "      <td>1.000000</td>\n",
              "      <td>0.427860</td>\n",
              "      <td>0.408652</td>\n",
              "      <td>0.053371</td>\n",
              "    </tr>\n",
              "    <tr>\n",
              "      <th>Trust (Government Corruption)</th>\n",
              "      <td>-0.376033</td>\n",
              "      <td>0.395694</td>\n",
              "      <td>-0.092994</td>\n",
              "      <td>0.241278</td>\n",
              "      <td>0.266393</td>\n",
              "      <td>0.127837</td>\n",
              "      <td>0.427860</td>\n",
              "      <td>1.000000</td>\n",
              "      <td>0.263097</td>\n",
              "      <td>0.096469</td>\n",
              "    </tr>\n",
              "    <tr>\n",
              "      <th>Generosity</th>\n",
              "      <td>-0.191605</td>\n",
              "      <td>0.221986</td>\n",
              "      <td>-0.063425</td>\n",
              "      <td>-0.045295</td>\n",
              "      <td>0.092067</td>\n",
              "      <td>0.077516</td>\n",
              "      <td>0.408652</td>\n",
              "      <td>0.263097</td>\n",
              "      <td>1.000000</td>\n",
              "      <td>0.013648</td>\n",
              "    </tr>\n",
              "    <tr>\n",
              "      <th>Dystopia Residual</th>\n",
              "      <td>-0.553745</td>\n",
              "      <td>0.562964</td>\n",
              "      <td>-0.043471</td>\n",
              "      <td>0.046581</td>\n",
              "      <td>0.078556</td>\n",
              "      <td>0.104591</td>\n",
              "      <td>0.053371</td>\n",
              "      <td>0.096469</td>\n",
              "      <td>0.013648</td>\n",
              "      <td>1.000000</td>\n",
              "    </tr>\n",
              "  </tbody>\n",
              "</table>\n",
              "</div>"
            ],
            "text/plain": [
              "                               Happiness Rank  ...  Dystopia Residual\n",
              "Happiness Rank                       1.000000  ...          -0.553745\n",
              "Happiness Score                     -0.993677  ...           0.562964\n",
              "Standard Error                       0.156377  ...          -0.043471\n",
              "Economy (GDP per Capita)            -0.756786  ...           0.046581\n",
              "Family                              -0.695548  ...           0.078556\n",
              "Health (Life Expectancy)            -0.747976  ...           0.104591\n",
              "Freedom                             -0.492089  ...           0.053371\n",
              "Trust (Government Corruption)       -0.376033  ...           0.096469\n",
              "Generosity                          -0.191605  ...           0.013648\n",
              "Dystopia Residual                   -0.553745  ...           1.000000\n",
              "\n",
              "[10 rows x 10 columns]"
            ]
          },
          "metadata": {
            "tags": []
          },
          "execution_count": 49
        },
        {
          "output_type": "display_data",
          "data": {
            "image/png": "[encoded data removed]",
            "text/plain": [
              "<Figure size 1440x720 with 2 Axes>"
            ]
          },
          "metadata": {
            "tags": [],
            "needs_background": "light"
          }
        }
      ]
    },
    {
      "cell_type": "markdown",
      "metadata": {
        "id": "1ROThOLQfRZw"
      },
      "source": [
        "### 5.4. Scatter plots\n",
        "\n",
        "Use scatter plots to find the correlation between two variables."
      ]
    },
    {
      "cell_type": "code",
      "metadata": {
        "id": "2aOfHNFefSrX",
        "colab": {
          "base_uri": "https://localhost:8080/",
          "height": 401
        },
        "outputId": "4b5286f0-5419-48bc-d2de-476aeb36f022"
      },
      "source": [
        "# To display scatter plot\n",
        "fig, ax = plt.subplots(figsize=(10,6))\n",
        "ax.scatter(df['column_name_a'], df['column_name_b'])\n",
        "ax.set_xlabel('column_name_a')\n",
        "ax.set_ylabel('column_name_b')\n",
        "plt.show()"
      ],
      "execution_count": null,
      "outputs": [
        {
          "output_type": "display_data",
          "data": {
            "image/png": "[encoded data removed]",
            "text/plain": [
              "<Figure size 720x432 with 1 Axes>"
            ]
          },
          "metadata": {
            "tags": []
          }
        }
      ]
    },
    {
      "cell_type": "markdown",
      "metadata": {
        "id": "LcorBvGwlXjG"
      },
      "source": [
        "### 5.5. Regression plots\n"
      ]
    },
    {
      "cell_type": "markdown",
      "metadata": {
        "id": "r6a1BroGmMl1"
      },
      "source": [
        "Use regression plots to analyze two variables.  \n",
        "*regplot()* or *lmplot()*\n"
      ]
    },
    {
      "cell_type": "code",
      "metadata": {
        "id": "C-IQ8WJ8lqOJ"
      },
      "source": [
        "'''\n",
        "# To display regression plot\n",
        "sns.lmplot(x='column_name_a', y='column_name_b', data=df)\n",
        "'''"
      ],
      "execution_count": null,
      "outputs": []
    },
    {
      "cell_type": "code",
      "metadata": {
        "id": "ig08qE5ampl1"
      },
      "source": [
        "'''\n",
        "# To display regression plot with hue\n",
        "sns.lmplot(x='column_name_a', y='column_name_b', cue='column_hue' data=df)\n",
        "'''"
      ],
      "execution_count": null,
      "outputs": []
    },
    {
      "cell_type": "markdown",
      "metadata": {
        "id": "r3hgqvJ2nmP5"
      },
      "source": [
        "## 6. Present Results"
      ]
    },
    {
      "cell_type": "markdown",
      "metadata": {
        "id": "9uuL24hznq2W"
      },
      "source": [
        "### 6.1. Data analysis observations"
      ]
    },
    {
      "cell_type": "markdown",
      "metadata": {
        "id": "ALB6BaFaomu6"
      },
      "source": [
        "\n",
        "\n",
        "1.   Observation1\n",
        "2.   Observation2\n",
        "3.   Observation3\n",
        "\n"
      ]
    },
    {
      "cell_type": "markdown",
      "metadata": {
        "id": "dOUKtSavodnW"
      },
      "source": [
        "### 6.2. Data analysis conclusions\n",
        "\n"
      ]
    },
    {
      "cell_type": "markdown",
      "metadata": {
        "id": "cQ4aPNiio0lW"
      },
      "source": [
        "\n",
        "\n",
        "1.   Conclusion1\n",
        "2.   Conclusion2\n",
        "3.   Conclusion3\n",
        "\n"
      ]
    }
  ]
}